{
 "cells": [
  {
   "cell_type": "code",
   "execution_count": null,
   "id": "5a439fdc-787e-4599-b62d-66bb01ecb164",
   "metadata": {},
   "outputs": [],
   "source": [
    "# Tell the notebook where to find the pipeline functions\n",
    "import sys\n",
    "sys.path.append('/lab-share/Neuro-Cohen-e2/Public/notebooks/gmiller/Lesion_Pipeline/dependencies/')"
   ]
  },
  {
   "cell_type": "code",
   "execution_count": null,
   "id": "f1e43771-2c6a-4d51-9719-918d492a3c2d",
   "metadata": {},
   "outputs": [],
   "source": [
    "import os\n",
    "import shutil\n",
    "from glob import glob \n",
    "import GNMPipeline as p"
   ]
  },
  {
   "cell_type": "markdown",
   "id": "9d4a2d4a-38b2-4f54-a969-09fda62b3c94",
   "metadata": {},
   "source": [
    "# Add your inputs"
   ]
  },
  {
   "cell_type": "code",
   "execution_count": null,
   "id": "40281e32-5ddb-462b-bb29-564b19ebd3dc",
   "metadata": {},
   "outputs": [],
   "source": [
    "input_dir=\"output_easyreg_test/\"  #Folder with input files, can use the folder created by Combine script previously\n",
    "input_type='BIDS' #'BIDS' or 'Folder'\n",
    "output_dir=\"output_easyreg_test/\"\n",
    "\n",
    "subjects_to_skip=None #['c002', 'c003'] \n",
    "\n",
    "mni_software='ANTsQuick' #'EasyReg', 'ANTs', 'ANTsQuick'\n",
    "\n",
    "lesion_keyword=None #i.e. 'segmentation', or None if you do not have any \n",
    "\n",
    "IMAGE_TYPES = ['t1', 'T2', 'FLAIR'] #case sensitive, change to match what you used e.g. t1, t1w, TI \n",
    "Reg_target_1='t1' #your ideal registration target, case sensitive\n",
    "Reg_target_2='T2'"
   ]
  },
  {
   "cell_type": "markdown",
   "id": "69c38c96-dda5-4313-9472-a28e909af317",
   "metadata": {},
   "source": [
    "# Make dictionary of subjects and sessions"
   ]
  },
  {
   "cell_type": "code",
   "execution_count": null,
   "id": "aa54b35e-d0e5-481f-bfcb-158793fed1fe",
   "metadata": {},
   "outputs": [],
   "source": [
    "subject_sessions=p.create_input_dict(input_dir, subjects_to_skip=subjects_to_skip, input_type=input_type)"
   ]
  },
  {
   "cell_type": "markdown",
   "id": "b28c1aac-f3a3-4462-aec5-0d21e52ed6a8",
   "metadata": {},
   "source": [
    "# Register Co-registration target to MNI, then bring lesion mask and co-registered images into the same space"
   ]
  },
  {
   "cell_type": "code",
   "execution_count": null,
   "id": "831315c8-768f-48bc-961d-70ecf0e0a78d",
   "metadata": {},
   "outputs": [],
   "source": [
    "mni_reg_dict={}\n",
    "for subject, sessions in subject_sessions.items():\n",
    "    reg_target=None\n",
    "    subject_folder = os.path.join(output_dir, subject) \n",
    "    for session in sessions:\n",
    "        print(f'*** Processing {subject}: {session} ***')\n",
    "        session_folder=os.path.join(subject_folder, session)\n",
    "        \n",
    "        reg_target=p.set_registration_target(glob(f'{session_folder}/COREGISTERED/*.nii*'), Reg_target_1, Reg_target_2)\n",
    "        print(\"Will register\", reg_target, \"to MNI\")\n",
    "        \n",
    "        if '1' in reg_target:\n",
    "            target_image=f'/lab-share/Neuro-Cohen-e2/Public/notebooks/gmiller/Pipeline/0_pipeline_scripts/mni_icbm152_t1_tal_nlin_asym_09c_brain.nii.gz'\n",
    "            #target_brain_seg= #providing this to EasyReg will save you time\n",
    "        elif '2' in reg_target:\n",
    "            target_image=f'/lab-share/Neuro-Cohen-e2/Public/notebooks/gmiller/Pipeline/0_pipeline_scripts/mni_icbm152_t2_tal_nlin_asym_09c_brain.nii.gz'\n",
    "            #target_brain_seg=\n",
    "        \n",
    "\n",
    "        if not os.path.exists(f'{session_folder}/MNI_SPACE'):\n",
    "            os.makedirs(f'{session_folder}/MNI_SPACE')\n",
    "            \n",
    "        source_file=f'{session_folder}/COREGISTERED/{subject}_{session}_{reg_target}.nii.gz'\n",
    "        \n",
    "        #look for lesion mask\n",
    "        if lesion_keyword:\n",
    "            lesion_mask_files=glob(f'{session_folder}/COREGISTERED/*{lesion_keyword}*nii*') #need to decide where we want these to be found and moved to \n",
    "            if lesion_mask_files:\n",
    "                lesion_mask = lesion_mask_files[0]\n",
    "            if len(lesion_mask_files) > 1:\n",
    "                print(f\"Warning: Multiple lesion mask files found. Using the first one: {lesion_mask}\")\n",
    "        else:\n",
    "            lesion_mask = None\n",
    "\n",
    "\n",
    "        #look for other brains to warp\n",
    "        other_brains=glob(f'{session_folder}/COREGISTERED/*space-{reg_target}.nii.gz') \n",
    "  \n",
    "        if other_brains:\n",
    "            print(\"Found\", len(other_brains), \"other brains to warp to MNI space also\")\n",
    "        else:\n",
    "            print(\"Found no other brains to warp to MNI space\")\n",
    "        \n",
    "        print(f'Registering the {reg_target} to MNI using {mni_software}') \n",
    "        if mni_software == 'EasyReg':\n",
    "            command=p.easy_reg(f'{session_folder}/MNI_SPACE', source_file, target_image, 'space-MNI', target_brain_seg=target_brain_seg, source_brain_seg=None,\n",
    "                               lesion_mask=lesion_mask, other_brains=other_brains, synthseg_robust=False)\n",
    "        elif mni_software == 'ANTs':\n",
    "            command=p.ants_mni(f'{session_folder}/MNI_SPACE', source_file, target_image, lesion_mask, other_brains, \n",
    "                               transform='s', histogram_matching=False, quick=False)\n",
    "        elif mni_software == 'ANTsQuick':\n",
    "            command=p.ants_mni(f'{session_folder}/MNI_SPACE', source_file, target_image, lesion_mask, other_brains, \n",
    "                               transform='s', histogram_matching=False, quick=True)\n",
    "        else:\n",
    "            print(\"Please set mni_software to 'EasyReg', 'ANTs', or 'ANTsQuick'\")\n",
    "    \n",
    "            \n",
    "        job_name = f\"MNI-register_{subject}_{session}_{reg_target}\"\n",
    "        job_id=p.submit_slurm_job(job_name, command)\n",
    "        mni_reg_dict[(subject,session)] = job_id\n",
    "        \n",
    "\n",
    "if len(mni_reg_dict) > 0:\n",
    "    print('You have', len(mni_reg_dict), 'MNI Registration Jobs submitted to SLURM; subject and job IDs are stored in the co_reg_dict')\n",
    "    print('You can type \"squeue -u $USER\" into your terminal  or \"!squeue -u $USER\" in a cell to track SLURM job progress')\n",
    "    print('You can check the output file matching the jobid in co_reg_dict to see code outputs and any errors')\n",
    "                                        "
   ]
  },
  {
   "cell_type": "markdown",
   "id": "b0f234ea-fdce-42bf-9e72-2a9c7e312d67",
   "metadata": {},
   "source": [
    "# Check your submitted jobs"
   ]
  },
  {
   "cell_type": "code",
   "execution_count": null,
   "id": "f854dbcd-9698-4a3c-b8cd-6af7ede9b4c6",
   "metadata": {},
   "outputs": [],
   "source": [
    "print(\"These are the jobs that should have been submitted:\")\n",
    "print(mni_reg_dict)"
   ]
  },
  {
   "cell_type": "code",
   "execution_count": null,
   "id": "1f3dea6e-290f-4b8f-bd41-c510a4989c57",
   "metadata": {},
   "outputs": [],
   "source": [
    "!squeue -u $USER "
   ]
  },
  {
   "cell_type": "code",
   "execution_count": null,
   "id": "96d1a9a2-6cba-450d-88a5-4d23a7f7494e",
   "metadata": {},
   "outputs": [],
   "source": []
  }
 ],
 "metadata": {
  "kernelspec": {
   "display_name": "Python3.10 (nimlab)",
   "language": "python",
   "name": "nimlab_py310"
  },
  "language_info": {
   "codemirror_mode": {
    "name": "ipython",
    "version": 3
   },
   "file_extension": ".py",
   "mimetype": "text/x-python",
   "name": "python",
   "nbconvert_exporter": "python",
   "pygments_lexer": "ipython3",
   "version": "3.10.2"
  }
 },
 "nbformat": 4,
 "nbformat_minor": 5
}
