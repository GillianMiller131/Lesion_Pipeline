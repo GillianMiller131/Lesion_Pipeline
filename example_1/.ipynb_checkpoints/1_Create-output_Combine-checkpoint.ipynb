{
 "cells": [
  {
   "cell_type": "markdown",
   "id": "39cb7474-9732-4e72-b04a-ab2d126d17e6",
   "metadata": {},
   "source": [
    "# Create Output folder, copy files to there, and Comine them if needed"
   ]
  },
  {
   "cell_type": "markdown",
   "id": "ca731211-1676-4152-8b82-0d940037ebfc",
   "metadata": {},
   "source": [
    "- The combine script takes about 2 hours to run"
   ]
  },
  {
   "cell_type": "code",
   "execution_count": null,
   "id": "5c0d6aa3-d3d5-48ea-9707-0f11d862e95c",
   "metadata": {},
   "outputs": [],
   "source": [
    "# Tell the notebook where to find the pipeline functions\n",
    "import sys\n",
    "sys.path.append('/lab-share/Neuro-Cohen-e2/Public/notebooks/gmiller/Lesion_Pipeline/dependencies/')"
   ]
  },
  {
   "cell_type": "code",
   "execution_count": null,
   "id": "f3ad0aa4-5b90-4a62-800f-b933173a9940",
   "metadata": {},
   "outputs": [],
   "source": [
    "import os\n",
    "import shutil\n",
    "from glob import glob \n",
    "import GNMPipeline as p"
   ]
  },
  {
   "cell_type": "markdown",
   "id": "34a88b8c-5caf-41db-acd4-a6e08985fcb9",
   "metadata": {},
   "source": [
    "# Add your inputs"
   ]
  },
  {
   "cell_type": "code",
   "execution_count": null,
   "id": "1da822d5-42e9-40a2-a47d-69d20c6e0084",
   "metadata": {},
   "outputs": [],
   "source": [
    "input_dir=\"/lab-share/Neuro-Cohen-e2/Public/notebooks/gmiller/Pipeline/RDCRN_test/\"  #Folder with input files, can use the folder created by Combine script previously\n",
    "input_type='BIDS' #'BIDS' or 'Folder'\n",
    "output_dir=\"/lab-share/Neuro-Cohen-e2/Public/notebooks/gmiller/Pipeline/RDCRN_test_output/\"\n",
    "                     \n",
    "\n",
    "IMAGE_TYPES = ['t1', 'T2', 'FLAIR'] #case sensitive, change to match what you used e.g. t1, t1w, TI \n",
    "Reg_target_1='t1' #your ideal registration target, case sensitive\n",
    "Reg_target_2='T2'"
   ]
  },
  {
   "cell_type": "markdown",
   "id": "c16b5d5f-d80d-456e-b607-132b4950d1fc",
   "metadata": {},
   "source": [
    "# Make dictionary of subjects and sessions"
   ]
  },
  {
   "cell_type": "code",
   "execution_count": null,
   "id": "af5d6e50-a849-4e34-b3e2-9e21f248ccf1",
   "metadata": {},
   "outputs": [],
   "source": [
    "subject_sessions=p.create_input_dict(input_dir, subjects_to_skip=subjects_to_skip, input_type=input_type)"
   ]
  },
  {
   "cell_type": "markdown",
   "id": "9461b59c-ff54-46a1-96cb-31c94ea6a47f",
   "metadata": {},
   "source": [
    "# Visualize output folder system"
   ]
  },
  {
   "cell_type": "code",
   "execution_count": null,
   "id": "51e975e8-668f-455e-8e5a-7ef79c4384b6",
   "metadata": {},
   "outputs": [],
   "source": [
    "print(f'Your output folder, {output_dir}, will look something like this: ')\n",
    "p.print_tree(subject_sessions)"
   ]
  },
  {
   "cell_type": "markdown",
   "id": "df2b7792-2beb-460d-a120-61334900a312",
   "metadata": {},
   "source": [
    "# Create output folder system"
   ]
  },
  {
   "cell_type": "code",
   "execution_count": null,
   "id": "297db9df-9330-46a9-bd97-2b4bc99ad9e9",
   "metadata": {},
   "outputs": [],
   "source": [
    "# Create output folders for each subject and session based on the subject_sessions dictionary\n",
    "for subject, sessions in subject_sessions.items():\n",
    "    \n",
    "    subject_folder = os.path.join(output_dir, subject)\n",
    "    \n",
    "    # Create the subject folder if it doesn't exist\n",
    "    if not os.path.exists(subject_folder):\n",
    "        os.makedirs(subject_folder)\n",
    "    \n",
    "    \n",
    "    # Loop through each session for the subject\n",
    "    for session in sorted(set(sessions)):\n",
    "        print(f'Preparing output folders for {session} for {subject}')\n",
    "        session_folder = os.path.join(subject_folder, session)\n",
    "         \n",
    "        # Check if the session folder exists and is not empty\n",
    "        if os.path.exists(session_folder):\n",
    "            if os.listdir(session_folder):\n",
    "                print(f\"{subject}: {session_folder} exists and is not empty\")\n",
    "        else:\n",
    "            # Create the session folder if it doesn't exist\n",
    "            if not os.path.exists(session_folder):\n",
    "                os.makedirs(session_folder)"
   ]
  },
  {
   "cell_type": "markdown",
   "id": "8b72dc67-01d8-4b48-a326-f947c6ddfe6d",
   "metadata": {},
   "source": [
    "# Copy files to output directory, combining files as needed"
   ]
  },
  {
   "cell_type": "code",
   "execution_count": null,
   "id": "36d0c1f7-5a36-47fc-a4ee-6358d3be42c5",
   "metadata": {},
   "outputs": [],
   "source": [
    "# Copy images to output folders; Combine images as needed\n",
    "combine_dict={}\n",
    "for subject, sessions in subject_sessions.items():\n",
    "    subject_folder = os.path.join(output_dir, subject)\n",
    "    \n",
    "\n",
    "    # Loop through each session for the subject\n",
    "    for session in sorted(set(sessions)):\n",
    "        session_folder = os.path.join(subject_folder, session)\n",
    "        \n",
    "        if not os.path.exists(f'{session_folder}/SELECTED'):\n",
    "            os.makedirs(f'{session_folder}/SELECTED')\n",
    "         \n",
    "        # Loop through each image type \n",
    "        for image_type in IMAGE_TYPES:\n",
    "\n",
    "            # Check if a file with the image type already exists in the session folder\n",
    "            if glob(f'{session_folder}/SELECTED/*{image_type}*.nii*'):\n",
    "                    print(f\"Error: A file with image type '{image_type}' already exists in {session_folder}/SELECTED\")\n",
    "            else: \n",
    "                # Get the list of images for the image type\n",
    "                if input_type == 'Folder':\n",
    "                    images = glob(f'{input_dir}/{subject}*{session}*{image_type}*.nii*') \n",
    "                elif input_type == 'BIDS':\n",
    "                    images = glob(f'{input_dir}/{subject}/{session}/*{image_type}*.nii*')\n",
    "             \n",
    "                # Check if there are more than 3 images to combine\n",
    "                if len(images) > 3:\n",
    "                    print(f\"Error: More than 3 images found for participant {subject}, session {session}, and image type {image_type}.\")\n",
    "                    continue\n",
    "                \n",
    "                # Combine the images if there are more than 1\n",
    "                if len(images) > 1 and image_type not in ['FLAIR', 'flair', 'Flair']:\n",
    "                    \n",
    "                    #Copy the un-combined images to the output folder so you have them\n",
    "                    os.makedirs(f'{session_folder}/SELECTED/precombine', exist_ok=True)\n",
    "                    [shutil.copy(i,f'{session_folder}/SELECTED/precombine') for i in images]\n",
    "                    \n",
    "                    #create the combine command and submit it to SLURM\n",
    "                    ##### MAKE SEPARATE COMBINE FOLDERS IF >1 TYPE PER SUBJECT NEEDS IT, OTHERWISE CLEAN UP WILL DELETE STUFF BEFORE ITS DONE\n",
    "                    print(f\"combining: {images}\")\n",
    "                    images_to_combine=glob(f'{session_folder}/SELECTED/precombine/*{image_type}*nii*') \n",
    "                    command = p.combine_images(f'{session_folder}/SELECTED', images_to_combine, f'{subject}_{session}_{image_type}', clean_up=True)\n",
    "                    job_name = f\"combine_images_{subject}_{session}_{image_type}\"\n",
    "                    job_id=p.submit_slurm_job(job_name, command)\n",
    "                    combine_dict[(subject,session)] = job_id\n",
    "                    \n",
    "                if len(images) > 1 and image_type in ['FLAIR', 'flair', 'Flair']:\n",
    "                    print('You have more than one FLAIR image, Combining these may not work well, please select one')\n",
    "                \n",
    "                # Copy the single image to the session folder\n",
    "                elif len(images) == 1:\n",
    "                    print(f\"copying: {images} to {session_folder}/SELECTED/{subject}_{session}_{image_type}.nii.gz\")\n",
    "                    shutil.copy(images[0], f'{session_folder}/SELECTED/{subject}_{session}_{image_type}.nii.gz')\n",
    "\n",
    "# Print the number of combine jobs submitted to SLURM\n",
    "if len(combine_dict) > 0:\n",
    "    print('You have', len(combine_dict), 'Combine Jobs submitted to SLURM; subject and job IDs are stored in combine_dict')\n",
    "    print('You can type \"squeue -u $USER\" into your terminal to track SLURM job progress')\n",
    "    print('You can check the output file matching the jobid in combine_dict to see code outputs and any errors')\n",
    "else:\n",
    "    print('You have', len(combine_dict), 'Combine Jobs')"
   ]
  },
  {
   "cell_type": "markdown",
   "id": "144845cc-a848-49b8-9aa3-6c2111441639",
   "metadata": {},
   "source": [
    "# Check your submitted jobs"
   ]
  },
  {
   "cell_type": "code",
   "execution_count": null,
   "id": "f2ed3b92-a4ef-4dd4-b896-2b4c43bf080f",
   "metadata": {},
   "outputs": [],
   "source": [
    "print(\"These are the jobs that should have been submitted:\")\n",
    "print(combine_dict)"
   ]
  },
  {
   "cell_type": "code",
   "execution_count": null,
   "id": "3ec1e8ae-2a2e-482e-9770-cd85a0bb421f",
   "metadata": {},
   "outputs": [],
   "source": [
    "!squeue -u $USER "
   ]
  }
 ],
 "metadata": {
  "kernelspec": {
   "display_name": "Python3.10 (nimlab)",
   "language": "python",
   "name": "nimlab_py310"
  },
  "language_info": {
   "codemirror_mode": {
    "name": "ipython",
    "version": 3
   },
   "file_extension": ".py",
   "mimetype": "text/x-python",
   "name": "python",
   "nbconvert_exporter": "python",
   "pygments_lexer": "ipython3",
   "version": "3.10.2"
  }
 },
 "nbformat": 4,
 "nbformat_minor": 5
}
