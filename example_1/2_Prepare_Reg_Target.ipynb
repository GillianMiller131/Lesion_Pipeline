{
 "cells": [
  {
   "cell_type": "code",
   "execution_count": null,
   "id": "8f03478e-e31c-4720-8e42-8829e4cc163b",
   "metadata": {},
   "outputs": [],
   "source": [
    "# Tell the notebook where to find the pipeline functions and scripts\n",
    "import sys\n",
    "sys.path.append('/lab-share/Neuro-Cohen-e2/Public/notebooks/gmiller/Lesion_Pipeline/')"
   ]
  },
  {
   "cell_type": "code",
   "execution_count": null,
   "id": "6876a391-137f-43e3-95c0-60a44031ef18",
   "metadata": {},
   "outputs": [],
   "source": [
    "import os\n",
    "import shutil\n",
    "from glob import glob \n",
    "import GNMpipeline as p"
   ]
  },
  {
   "cell_type": "markdown",
   "id": "37b08c8e-d5ce-4423-bbc8-4fa558178436",
   "metadata": {},
   "source": [
    "# Add your inputs"
   ]
  },
  {
   "cell_type": "code",
   "execution_count": null,
   "id": "fd1d2fbb-cda9-4488-bbf7-bfdb97bfc66f",
   "metadata": {},
   "outputs": [],
   "source": [
    "input_dir=\"/lab-share/Neuro-Cohen-e2/Public/notebooks/gmiller/Pipeline/RDCRN_test_output/\"  #Folder with input files, can use the folder created by Combine script previously\n",
    "input_type='BIDS' #'BIDS' or 'Folder'\n",
    "output_dir=\"/lab-share/Neuro-Cohen-e2/Public/notebooks/gmiller/Pipeline/RDCRN_test_output/\"\n",
    "\n",
    "subjects_to_skip=None\n",
    "\n",
    "skullstrip='both' #synthstrip, optibet, both, None \n",
    "                        \n",
    "\n",
    "IMAGE_TYPES = ['t1', 'T2', 'FLAIR'] #case sensitive, change to match what you used e.g. t1, t1w, TI \n",
    "Reg_target_1='t1' #your ideal registration target, case sensitive\n",
    "Reg_target_2='T2'"
   ]
  },
  {
   "cell_type": "markdown",
   "id": "afccc60d-35a2-49a4-8640-38a437580586",
   "metadata": {},
   "source": [
    "# Make dictionary of subjects and sessions"
   ]
  },
  {
   "cell_type": "code",
   "execution_count": null,
   "id": "50eb1f39-2884-4d2a-bc71-d409feed0597",
   "metadata": {},
   "outputs": [],
   "source": [
    "subject_sessions=p.create_input_dict(input_dir, subjects_to_skip=subjects_to_skip, input_type=input_type)"
   ]
  },
  {
   "cell_type": "markdown",
   "id": "f80f4ee1-5e42-45b6-bd04-1e6b20e74aed",
   "metadata": {},
   "source": [
    "# Prepare your registration image with bias correcting etc."
   ]
  },
  {
   "cell_type": "code",
   "execution_count": null,
   "id": "9b0962af-1d32-4b3c-910e-4814bdd0e2e9",
   "metadata": {},
   "outputs": [],
   "source": [
    "bias_corr_dict={}\n",
    "for subject, sessions in subject_sessions.items():\n",
    "    reg_target=None\n",
    "    subject_folder = os.path.join(output_dir, subject) \n",
    "    for session in sessions:\n",
    "        print(f'*** Processing {subject}: {session} ***')\n",
    "        session_folder=os.path.join(subject_folder, session)\n",
    "        \n",
    "        reg_target=p.set_registration_target(glob(f'{session_folder}/SELECTED/*.nii*'), Reg_target_1, Reg_target_2 )\n",
    "        print(reg_target)\n",
    "        \n",
    "        reg_image=f'{session_folder}/SELECTED/{subject}_{session}_{reg_target}.nii.gz'\n",
    "        \n",
    "        print(f'Reslicing {reg_image}')\n",
    "        #reslice_image(reg_image)\n",
    "        \n",
    "        print(f'Bias Correcting {reg_image}')\n",
    "        if '1' in reg_target:\n",
    "            img_type='T1'\n",
    "        elif '2' in reg_target:\n",
    "            img_type='T2'\n",
    "        \n",
    "        command=p.bias_corr(reg_image, img_type, skullstrip=skullstrip, clean_up=True) \n",
    "        job_name = f\"bias_correct_{subject}_{session}_{reg_target}\"\n",
    "        job_id=p.submit_slurm_job(job_name, command)\n",
    "        bias_corr_dict[(subject,session)] = job_id\n",
    "\n",
    "if len(bias_corr_dict) > 0:\n",
    "    print('You have', len(bias_corr_dict), 'Bias Correction Jobs submitted to SLURM; subject and job IDs are stored in bias_corr_dict')\n",
    "    print('You can type \"squeue -u $USER\" into your terminal to track SLURM job progress')\n",
    "    print('You can check the output file matching the jobid in bias_corr_dict to see code outputs and any errors')\n",
    "else:\n",
    "    print('You have', len(bias_corr_dict), 'Bias Correction Jobs')"
   ]
  },
  {
   "cell_type": "markdown",
   "id": "26c66d62-2baf-4250-925c-29e2a943deb5",
   "metadata": {},
   "source": [
    "# Check your submitted jobs"
   ]
  },
  {
   "cell_type": "code",
   "execution_count": null,
   "id": "9625e979-4a84-49e0-a398-c256bacb425f",
   "metadata": {},
   "outputs": [],
   "source": [
    "print(\"These are the jobs that should have been submitted:\")\n",
    "print(bias_corr_dict)"
   ]
  },
  {
   "cell_type": "code",
   "execution_count": null,
   "id": "96b5cad1-d37c-40e9-9d7e-0760388942c7",
   "metadata": {},
   "outputs": [],
   "source": [
    "!squeue -u $USER "
   ]
  }
 ],
 "metadata": {
  "kernelspec": {
   "display_name": "Python3.10 (nimlab)",
   "language": "python",
   "name": "nimlab_py310"
  },
  "language_info": {
   "codemirror_mode": {
    "name": "ipython",
    "version": 3
   },
   "file_extension": ".py",
   "mimetype": "text/x-python",
   "name": "python",
   "nbconvert_exporter": "python",
   "pygments_lexer": "ipython3",
   "version": "3.10.2"
  }
 },
 "nbformat": 4,
 "nbformat_minor": 5
}
