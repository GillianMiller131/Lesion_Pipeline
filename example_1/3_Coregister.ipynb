{
 "cells": [
  {
   "cell_type": "code",
   "execution_count": null,
   "id": "349a7f74-6f59-4549-9b9d-483dca869513",
   "metadata": {},
   "outputs": [],
   "source": [
    "# Tell the notebook where to find the pipeline functions\n",
    "import sys\n",
    "sys.path.append('/lab-share/Neuro-Cohen-e2/Public/notebooks/gmiller/Lesion_Pipeline/')"
   ]
  },
  {
   "cell_type": "code",
   "execution_count": null,
   "id": "a9fa1927-55ed-4cd1-b131-265ab72fe5fc",
   "metadata": {},
   "outputs": [],
   "source": [
    "import os\n",
    "import shutil\n",
    "from glob import glob \n",
    "import GNMpipeline as p"
   ]
  },
  {
   "cell_type": "markdown",
   "id": "d0e2ee7d-857a-4623-bd03-a69c9fe9f77e",
   "metadata": {},
   "source": [
    "# Add your inputs"
   ]
  },
  {
   "cell_type": "code",
   "execution_count": null,
   "id": "8c885bb1-d5c4-49f1-81fb-c43feba9ed16",
   "metadata": {},
   "outputs": [],
   "source": [
    "input_dir=\"/lab-share/Neuro-Cohen-e2/Public/notebooks/gmiller/Pipeline/RDCRN_test_output/\"  #Folder with input files, can use the folder created by Combine script previously\n",
    "input_type='BIDS' #'BIDS' or 'Folder'\n",
    "output_dir=\"/lab-share/Neuro-Cohen-e2/Public/notebooks/gmiller/Pipeline/RDCRN_test_output/\"\n",
    "\n",
    "\n",
    "subjects_to_skip=None #['c002', 'c003'] \n",
    "\n",
    "skullstrip='synthstrip' #'synthstrip', 'optibet', or None \n",
    "\n",
    "\n",
    "IMAGE_TYPES = ['t1', 'T2', 'FLAIR'] #case sensitive, change to match what you used e.g. t1, t1w, TI \n",
    "Reg_target_1='t1' #your ideal registration target, case sensitive\n",
    "Reg_target_2='T2'"
   ]
  },
  {
   "cell_type": "markdown",
   "id": "e019ad68-6ea7-4567-b4f2-9a7803d8d356",
   "metadata": {},
   "source": [
    "# Make dictionary of subjects and sessions"
   ]
  },
  {
   "cell_type": "code",
   "execution_count": null,
   "id": "f8b5b7d9-0e35-4733-a0a2-1d00b49ebf7f",
   "metadata": {},
   "outputs": [],
   "source": [
    "subject_sessions=p.create_input_dict(input_dir, subjects_to_skip=subjects_to_skip, input_type=input_type)"
   ]
  },
  {
   "cell_type": "markdown",
   "id": "09c754ce-ad97-4f84-8b98-ec89f75b9b56",
   "metadata": {},
   "source": [
    "# Co-register images to registration target and apply skullstripping if desired"
   ]
  },
  {
   "cell_type": "code",
   "execution_count": null,
   "id": "9a6711ab-3f40-4bb1-8e01-ee857fbcfdde",
   "metadata": {},
   "outputs": [],
   "source": [
    "if skullstrip not in ['optibet', 'synthstrip', None]:\n",
    "    raise ValueError(\"Please change your skullstrip variable to either 'optibet', 'synthstrip', or None\")\n",
    "\n",
    "co_reg_dict={}\n",
    "for subject, sessions in subject_sessions.items():\n",
    "    reg_target=None\n",
    "    subject_folder = os.path.join(output_dir, subject) \n",
    "    for session in sessions:\n",
    "        print(f'*** Processing {subject}: {session} ***')\n",
    "        session_folder=os.path.join(subject_folder, session)\n",
    "        \n",
    "        reg_target=p.set_registration_target(glob(f'{session_folder}/SELECTED/*.nii*'), Reg_target_1, Reg_target_2)\n",
    "        print(reg_target)\n",
    "        \n",
    "        print(f'Registering Images to the {reg_target}') #~5 min per file\n",
    "        \n",
    "        if not os.path.exists(f'{session_folder}/COREGISTERED'):\n",
    "            os.makedirs(f'{session_folder}/COREGISTERED')\n",
    "            \n",
    "        reg_file=f'{session_folder}/SELECTED/{subject}_{session}_{reg_target}.nii.gz'\n",
    "        shutil.copy(reg_file, f'{session_folder}/COREGISTERED')\n",
    "        \n",
    "        #Get brain mask to apply skullstripping to other images once they are co-registered \n",
    "        brain_mask=None\n",
    "        if skullstrip != None:\n",
    "            suffix = '_' + skullstrip\n",
    "            brain_mask=f'{session_folder}/SELECTED/*brain-mask*{suffix}*'\n",
    "            shutil.copy(f'{session_folder}/SELECTED/{subject}_{session}_{reg_target}_SkullStripped{suffix}.nii.gz', f'{session_folder}/COREGISTERED/{subject}_{session}_{reg_target}_SkullStripped.nii.gz')\n",
    "        \n",
    "        for image in IMAGE_TYPES:\n",
    "            if image != reg_target:\n",
    "                \n",
    "                file=f'{session_folder}/SELECTED/{subject}_{session}_{image}.nii.gz'\n",
    "\n",
    "                if os.path.exists(file):\n",
    "                    shutil.copy(file, f'{session_folder}/COREGISTERED')\n",
    "\n",
    "                    print(f'Registering {file}')\n",
    "                    command=p.co_register(f'{session_folder}/COREGISTERED', reg_file, file, tag=f'space-{reg_target}', brain_mask=brain_mask, clean_up=True)\n",
    "                    job_name = f\"co-register_{subject}_{session}_{reg_target}\"\n",
    "                    job_id=p.submit_slurm_job(job_name, command)\n",
    "                    co_reg_dict[(subject,session,os.path.basename(file))] = job_id\n",
    "                else:\n",
    "                    print(f'Warning: {file} does not exist')\n",
    "\n",
    "if len(co_reg_dict) > 0:\n",
    "    print('You have', len(co_reg_dict), 'Co-Registration Jobs submitted to SLURM; subject and job IDs are stored in the co_reg_dict')\n",
    "    print('You can type \"squeue -u $USER\" into your terminal  or \"!squeue -u $USER\" in a cell to track SLURM job progress')\n",
    "    print('You can check the output file matching the jobid in co_reg_dict to see code outputs and any errors')\n",
    "                                        "
   ]
  },
  {
   "cell_type": "markdown",
   "id": "34255b26-794f-44cd-9fc9-531f0a87f80c",
   "metadata": {},
   "source": [
    "# Check your submitted jobs"
   ]
  },
  {
   "cell_type": "code",
   "execution_count": null,
   "id": "d4040786-adfa-4d24-b5cc-45bcb31f585b",
   "metadata": {},
   "outputs": [],
   "source": [
    "print(\"These are the jobs that should have been submitted:\")\n",
    "print(co_reg_dict)"
   ]
  },
  {
   "cell_type": "code",
   "execution_count": null,
   "id": "c1e62138-0b5f-405e-9c79-111eacc5eab7",
   "metadata": {},
   "outputs": [],
   "source": [
    "!squeue -u $USER "
   ]
  }
 ],
 "metadata": {
  "kernelspec": {
   "display_name": "Python3.10 (nimlab)",
   "language": "python",
   "name": "nimlab_py310"
  },
  "language_info": {
   "codemirror_mode": {
    "name": "ipython",
    "version": 3
   },
   "file_extension": ".py",
   "mimetype": "text/x-python",
   "name": "python",
   "nbconvert_exporter": "python",
   "pygments_lexer": "ipython3",
   "version": "3.10.2"
  }
 },
 "nbformat": 4,
 "nbformat_minor": 5
}
